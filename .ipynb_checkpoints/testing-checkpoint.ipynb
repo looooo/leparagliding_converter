{
 "cells": [
  {
   "cell_type": "code",
   "execution_count": 1,
   "metadata": {},
   "outputs": [],
   "source": [
    "import openglider\n",
    "import numpy as np\n",
    "import matplotlib.pyplot as plt\n",
    "import pandas as pd\n",
    "from jinja2 import Environment, FileSystemLoader"
   ]
  },
  {
   "cell_type": "code",
   "execution_count": 2,
   "metadata": {},
   "outputs": [],
   "source": [
    "glider = openglider.load(\"leparagliding.json\")"
   ]
  },
  {
   "cell_type": "code",
   "execution_count": 3,
   "metadata": {},
   "outputs": [
    {
     "data": {
      "text/plain": [
       "array([-2.04233523, -2.04233523, -2.01806996, -1.9762474 , -1.91694467,\n",
       "       -1.83845668, -1.739082  , -1.60115626, -1.3953242 , -1.08879817,\n",
       "       -0.62690566,  0.05308195,  0.9777783 ,  2.09008243,  1.77000759])"
      ]
     },
     "execution_count": 3,
     "metadata": {},
     "output_type": "execute_result"
    }
   ],
   "source": [
    "aoa_abs = np.array([r.aoa_absolute for r in glider.ribs])\n",
    "np.rad2deg(aoa_abs)"
   ]
  },
  {
   "cell_type": "code",
   "execution_count": 4,
   "metadata": {},
   "outputs": [
    {
     "data": {
      "text/plain": [
       "array([9.25745297, 9.25745297, 9.20322419, 9.09511161, 8.93538518,\n",
       "       8.72351418, 8.45327644, 8.12988711, 7.75996799, 7.34072575,\n",
       "       6.87243553, 6.34966039, 5.73371037, 4.95331522, 3.59417463])"
      ]
     },
     "execution_count": 4,
     "metadata": {},
     "output_type": "execute_result"
    }
   ],
   "source": [
    "aoa_rel = np.array([r.aoa_relative for r in glider.ribs])\n",
    "np.rad2deg(aoa_rel)"
   ]
  },
  {
   "cell_type": "code",
   "execution_count": 5,
   "metadata": {},
   "outputs": [
    {
     "data": {
      "text/plain": [
       "11.309932474020215"
      ]
     },
     "execution_count": 5,
     "metadata": {},
     "output_type": "execute_result"
    }
   ],
   "source": [
    "gamma = np.arctan(1 / glider.glide)\n",
    "np.rad2deg(gamma)"
   ]
  },
  {
   "cell_type": "code",
   "execution_count": 6,
   "metadata": {},
   "outputs": [
    {
     "data": {
      "text/plain": [
       "9.267597246275292"
      ]
     },
     "execution_count": 6,
     "metadata": {},
     "output_type": "execute_result"
    }
   ],
   "source": [
    "alpha_max = np.rad2deg(aoa_abs[0] + gamma)\n",
    "alpha_max   # not exactly aoa_rel[0] because of rib not at center"
   ]
  },
  {
   "cell_type": "code",
   "execution_count": 7,
   "metadata": {},
   "outputs": [
    {
     "data": {
      "text/plain": [
       "array([0.        , 0.        , 0.02426526, 0.06608783, 0.12539056,\n",
       "       0.20387855, 0.30325323, 0.44117896, 0.64701102, 0.95353705,\n",
       "       1.41542957, 2.09541718, 3.02011353, 4.13241766, 3.81234281])"
      ]
     },
     "execution_count": 7,
     "metadata": {},
     "output_type": "execute_result"
    }
   ],
   "source": [
    "washin = np.rad2deg(aoa_abs - aoa_abs[0])\n",
    "washin"
   ]
  },
  {
   "cell_type": "code",
   "execution_count": 8,
   "metadata": {},
   "outputs": [
    {
     "data": {
      "image/png": "[encoded data removed]",
      "text/plain": [
       "<Figure size 1080x360 with 1 Axes>"
      ]
     },
     "metadata": {
      "needs_background": "light"
     },
     "output_type": "display_data"
    }
   ],
   "source": [
    "plt.figure(figsize=(15, 5))\n",
    "plt.plot(np.rad2deg(aoa_abs), label=\"aoa_absolute\")\n",
    "plt.plot(np.rad2deg(aoa_rel), label=\"aoa_relative\")\n",
    "plt.plot(washin, label=\"washin\")\n",
    "plt.plot([alpha_max] * 16, label=\"alpha_max\")\n",
    "plt.xlabel(\"ribnumber\")\n",
    "plt.ylabel(\"angle [°]\")\n",
    "plt.legend()\n",
    "plt.grid()\n",
    "plt.show()"
   ]
  },
  {
   "cell_type": "code",
   "execution_count": 9,
   "metadata": {},
   "outputs": [
    {
     "data": {
      "text/plain": [
       "(array([  0.        ,   0.        ,   1.59954466,   4.69851026,\n",
       "          9.38764759,  15.84093009,  24.26896674,  34.70986563,\n",
       "         47.15617418,  61.52735403,  77.74121367,  95.69565305,\n",
       "        115.39827454, 136.76887447, 159.12477066]),\n",
       " array([-27.5749288 ,  27.5749288 ,  79.87909664, 129.78208773,\n",
       "        177.860728  , 223.86651188, 266.9798663 , 306.16513625,\n",
       "        340.5888585 , 369.76675199, 393.63803934, 412.27070892,\n",
       "        425.74074485, 434.17823395, 437.78427523]),\n",
       " array([-7.48099499e-15, -7.48099499e-15, -4.50014052e+00, -1.29631249e+01,\n",
       "        -2.51774579e+01, -4.08932828e+01, -5.96844671e+01, -8.08789782e+01,\n",
       "        -1.03687838e+02, -1.27394028e+02, -1.51499073e+02, -1.75689503e+02,\n",
       "        -1.99631506e+02, -2.23066677e+02, -2.45422697e+02]))"
      ]
     },
     "execution_count": 9,
     "metadata": {},
     "output_type": "execute_result"
    }
   ],
   "source": [
    "y_le, xp, z = np.array([r.pos for r in glider.ribs]).T * 1.0e2  # 1.e2 scaling m -> cm\n",
    "y_le, xp, z"
   ]
  },
  {
   "cell_type": "code",
   "execution_count": 10,
   "metadata": {},
   "outputs": [
    {
     "data": {
      "text/plain": [
       "array([308.37423249, 308.37423249, 307.45338599, 305.70394168,\n",
       "       303.14613848, 299.79176246, 295.69431118, 290.96893652,\n",
       "       285.71319133, 280.10570969, 274.23833911, 268.07631132,\n",
       "       261.52448725, 254.42000344, 246.19257738])"
      ]
     },
     "execution_count": 10,
     "metadata": {},
     "output_type": "execute_result"
    }
   ],
   "source": [
    "chord = np.array([r.chord for r in glider.ribs]) * 1.0e2\n",
    "y_te = y_le + chord\n",
    "y_te"
   ]
  },
  {
   "cell_type": "code",
   "execution_count": 11,
   "metadata": {},
   "outputs": [
    {
     "data": {
      "text/plain": [
       "array([  0.        ,  27.5749288 ,  80.072331  , 130.68784863,\n",
       "       180.29375132, 228.90979088, 275.94031221, 320.49020198,\n",
       "       361.78471399, 399.37903443, 433.30382742, 463.83828739,\n",
       "       491.30938814, 516.21718802, 538.86216807])"
      ]
     },
     "execution_count": 11,
     "metadata": {},
     "output_type": "execute_result"
    }
   ],
   "source": [
    "x_rib = glider.shape_simple.front.data.T[0] * 1.0e2\n",
    "x_rib"
   ]
  },
  {
   "cell_type": "code",
   "execution_count": 12,
   "metadata": {},
   "outputs": [
    {
     "data": {
      "text/plain": [
       "array([-2.45874909,  2.45874909,  7.27131961, 11.93976128, 16.55741322,\n",
       "       21.20534006, 25.97914205, 30.96807904, 36.31048246, 42.18600971,\n",
       "       48.83695703, 56.51608139, 65.41837277, 75.51820358, 80.83707405])"
      ]
     },
     "execution_count": 12,
     "metadata": {},
     "output_type": "execute_result"
    }
   ],
   "source": [
    "beta = np.rad2deg(np.array([r.arcang for r in glider.ribs]))\n",
    "beta"
   ]
  },
  {
   "cell_type": "code",
   "execution_count": 13,
   "metadata": {},
   "outputs": [],
   "source": [
    "rp = np.array([0.] * len(beta))\n",
    "ribs_number = np.array(list(range(len(rp))), dtype=int)"
   ]
  },
  {
   "cell_type": "code",
   "execution_count": 14,
   "metadata": {},
   "outputs": [
    {
     "data": {
      "text/html": [
       "<div>\n",
       "<style scoped>\n",
       "    .dataframe tbody tr th:only-of-type {\n",
       "        vertical-align: middle;\n",
       "    }\n",
       "\n",
       "    .dataframe tbody tr th {\n",
       "        vertical-align: top;\n",
       "    }\n",
       "\n",
       "    .dataframe thead th {\n",
       "        text-align: right;\n",
       "    }\n",
       "</style>\n",
       "<table border=\"1\" class=\"dataframe\">\n",
       "  <thead>\n",
       "    <tr style=\"text-align: right;\">\n",
       "      <th></th>\n",
       "      <th>ribs</th>\n",
       "      <th>x_rib</th>\n",
       "      <th>y_le</th>\n",
       "      <th>y_te</th>\n",
       "      <th>xp</th>\n",
       "      <th>z</th>\n",
       "      <th>beta</th>\n",
       "      <th>rp</th>\n",
       "      <th>washin</th>\n",
       "    </tr>\n",
       "  </thead>\n",
       "  <tbody>\n",
       "    <tr>\n",
       "      <th>1</th>\n",
       "      <td>1</td>\n",
       "      <td>27.574929</td>\n",
       "      <td>0.000000</td>\n",
       "      <td>308.374232</td>\n",
       "      <td>27.574929</td>\n",
       "      <td>-7.480995e-15</td>\n",
       "      <td>2.458749</td>\n",
       "      <td>0.0</td>\n",
       "      <td>0.000000</td>\n",
       "    </tr>\n",
       "    <tr>\n",
       "      <th>2</th>\n",
       "      <td>2</td>\n",
       "      <td>80.072331</td>\n",
       "      <td>1.599545</td>\n",
       "      <td>307.453386</td>\n",
       "      <td>79.879097</td>\n",
       "      <td>-4.500141e+00</td>\n",
       "      <td>7.271320</td>\n",
       "      <td>0.0</td>\n",
       "      <td>0.024265</td>\n",
       "    </tr>\n",
       "    <tr>\n",
       "      <th>3</th>\n",
       "      <td>3</td>\n",
       "      <td>130.687849</td>\n",
       "      <td>4.698510</td>\n",
       "      <td>305.703942</td>\n",
       "      <td>129.782088</td>\n",
       "      <td>-1.296312e+01</td>\n",
       "      <td>11.939761</td>\n",
       "      <td>0.0</td>\n",
       "      <td>0.066088</td>\n",
       "    </tr>\n",
       "    <tr>\n",
       "      <th>4</th>\n",
       "      <td>4</td>\n",
       "      <td>180.293751</td>\n",
       "      <td>9.387648</td>\n",
       "      <td>303.146138</td>\n",
       "      <td>177.860728</td>\n",
       "      <td>-2.517746e+01</td>\n",
       "      <td>16.557413</td>\n",
       "      <td>0.0</td>\n",
       "      <td>0.125391</td>\n",
       "    </tr>\n",
       "    <tr>\n",
       "      <th>5</th>\n",
       "      <td>5</td>\n",
       "      <td>228.909791</td>\n",
       "      <td>15.840930</td>\n",
       "      <td>299.791762</td>\n",
       "      <td>223.866512</td>\n",
       "      <td>-4.089328e+01</td>\n",
       "      <td>21.205340</td>\n",
       "      <td>0.0</td>\n",
       "      <td>0.203879</td>\n",
       "    </tr>\n",
       "    <tr>\n",
       "      <th>6</th>\n",
       "      <td>6</td>\n",
       "      <td>275.940312</td>\n",
       "      <td>24.268967</td>\n",
       "      <td>295.694311</td>\n",
       "      <td>266.979866</td>\n",
       "      <td>-5.968447e+01</td>\n",
       "      <td>25.979142</td>\n",
       "      <td>0.0</td>\n",
       "      <td>0.303253</td>\n",
       "    </tr>\n",
       "    <tr>\n",
       "      <th>7</th>\n",
       "      <td>7</td>\n",
       "      <td>320.490202</td>\n",
       "      <td>34.709866</td>\n",
       "      <td>290.968937</td>\n",
       "      <td>306.165136</td>\n",
       "      <td>-8.087898e+01</td>\n",
       "      <td>30.968079</td>\n",
       "      <td>0.0</td>\n",
       "      <td>0.441179</td>\n",
       "    </tr>\n",
       "    <tr>\n",
       "      <th>8</th>\n",
       "      <td>8</td>\n",
       "      <td>361.784714</td>\n",
       "      <td>47.156174</td>\n",
       "      <td>285.713191</td>\n",
       "      <td>340.588859</td>\n",
       "      <td>-1.036878e+02</td>\n",
       "      <td>36.310482</td>\n",
       "      <td>0.0</td>\n",
       "      <td>0.647011</td>\n",
       "    </tr>\n",
       "    <tr>\n",
       "      <th>9</th>\n",
       "      <td>9</td>\n",
       "      <td>399.379034</td>\n",
       "      <td>61.527354</td>\n",
       "      <td>280.105710</td>\n",
       "      <td>369.766752</td>\n",
       "      <td>-1.273940e+02</td>\n",
       "      <td>42.186010</td>\n",
       "      <td>0.0</td>\n",
       "      <td>0.953537</td>\n",
       "    </tr>\n",
       "    <tr>\n",
       "      <th>10</th>\n",
       "      <td>10</td>\n",
       "      <td>433.303827</td>\n",
       "      <td>77.741214</td>\n",
       "      <td>274.238339</td>\n",
       "      <td>393.638039</td>\n",
       "      <td>-1.514991e+02</td>\n",
       "      <td>48.836957</td>\n",
       "      <td>0.0</td>\n",
       "      <td>1.415430</td>\n",
       "    </tr>\n",
       "    <tr>\n",
       "      <th>11</th>\n",
       "      <td>11</td>\n",
       "      <td>463.838287</td>\n",
       "      <td>95.695653</td>\n",
       "      <td>268.076311</td>\n",
       "      <td>412.270709</td>\n",
       "      <td>-1.756895e+02</td>\n",
       "      <td>56.516081</td>\n",
       "      <td>0.0</td>\n",
       "      <td>2.095417</td>\n",
       "    </tr>\n",
       "    <tr>\n",
       "      <th>12</th>\n",
       "      <td>12</td>\n",
       "      <td>491.309388</td>\n",
       "      <td>115.398275</td>\n",
       "      <td>261.524487</td>\n",
       "      <td>425.740745</td>\n",
       "      <td>-1.996315e+02</td>\n",
       "      <td>65.418373</td>\n",
       "      <td>0.0</td>\n",
       "      <td>3.020114</td>\n",
       "    </tr>\n",
       "    <tr>\n",
       "      <th>13</th>\n",
       "      <td>13</td>\n",
       "      <td>516.217188</td>\n",
       "      <td>136.768874</td>\n",
       "      <td>254.420003</td>\n",
       "      <td>434.178234</td>\n",
       "      <td>-2.230667e+02</td>\n",
       "      <td>75.518204</td>\n",
       "      <td>0.0</td>\n",
       "      <td>4.132418</td>\n",
       "    </tr>\n",
       "    <tr>\n",
       "      <th>14</th>\n",
       "      <td>14</td>\n",
       "      <td>538.862168</td>\n",
       "      <td>159.124771</td>\n",
       "      <td>246.192577</td>\n",
       "      <td>437.784275</td>\n",
       "      <td>-2.454227e+02</td>\n",
       "      <td>80.837074</td>\n",
       "      <td>0.0</td>\n",
       "      <td>3.812343</td>\n",
       "    </tr>\n",
       "  </tbody>\n",
       "</table>\n",
       "</div>"
      ],
      "text/plain": [
       "    ribs       x_rib        y_le        y_te          xp             z  \\\n",
       "1      1   27.574929    0.000000  308.374232   27.574929 -7.480995e-15   \n",
       "2      2   80.072331    1.599545  307.453386   79.879097 -4.500141e+00   \n",
       "3      3  130.687849    4.698510  305.703942  129.782088 -1.296312e+01   \n",
       "4      4  180.293751    9.387648  303.146138  177.860728 -2.517746e+01   \n",
       "5      5  228.909791   15.840930  299.791762  223.866512 -4.089328e+01   \n",
       "6      6  275.940312   24.268967  295.694311  266.979866 -5.968447e+01   \n",
       "7      7  320.490202   34.709866  290.968937  306.165136 -8.087898e+01   \n",
       "8      8  361.784714   47.156174  285.713191  340.588859 -1.036878e+02   \n",
       "9      9  399.379034   61.527354  280.105710  369.766752 -1.273940e+02   \n",
       "10    10  433.303827   77.741214  274.238339  393.638039 -1.514991e+02   \n",
       "11    11  463.838287   95.695653  268.076311  412.270709 -1.756895e+02   \n",
       "12    12  491.309388  115.398275  261.524487  425.740745 -1.996315e+02   \n",
       "13    13  516.217188  136.768874  254.420003  434.178234 -2.230667e+02   \n",
       "14    14  538.862168  159.124771  246.192577  437.784275 -2.454227e+02   \n",
       "\n",
       "         beta   rp    washin  \n",
       "1    2.458749  0.0  0.000000  \n",
       "2    7.271320  0.0  0.024265  \n",
       "3   11.939761  0.0  0.066088  \n",
       "4   16.557413  0.0  0.125391  \n",
       "5   21.205340  0.0  0.203879  \n",
       "6   25.979142  0.0  0.303253  \n",
       "7   30.968079  0.0  0.441179  \n",
       "8   36.310482  0.0  0.647011  \n",
       "9   42.186010  0.0  0.953537  \n",
       "10  48.836957  0.0  1.415430  \n",
       "11  56.516081  0.0  2.095417  \n",
       "12  65.418373  0.0  3.020114  \n",
       "13  75.518204  0.0  4.132418  \n",
       "14  80.837074  0.0  3.812343  "
      ]
     },
     "execution_count": 14,
     "metadata": {},
     "output_type": "execute_result"
    }
   ],
   "source": [
    "data = {\"ribs\": ribs_number,\n",
    "       \"x_rib\": x_rib,\n",
    "       \"y_le\": y_le, \n",
    "       \"y_te\": y_te,\n",
    "       \"xp\": xp,\n",
    "       \"z\": z,\n",
    "       \"beta\": beta,\n",
    "       \"rp\": rp,\n",
    "       \"washin\": washin}\n",
    "data_frame = pd.DataFrame(data)\n",
    "if glider.has_center_cell:\n",
    "    data_frame = data_frame[1:]\n",
    "data_frame"
   ]
  },
  {
   "cell_type": "code",
   "execution_count": 15,
   "metadata": {},
   "outputs": [
    {
     "data": {
      "text/plain": [
       "' ribs       x_rib        y_le        y_te          xp             z       beta   rp    washin\\n    1   27.574929    0.000000  308.374232   27.574929 -7.480995e-15   2.458749  0.0  0.000000\\n    2   80.072331    1.599545  307.453386   79.879097 -4.500141e+00   7.271320  0.0  0.024265\\n    3  130.687849    4.698510  305.703942  129.782088 -1.296312e+01  11.939761  0.0  0.066088\\n    4  180.293751    9.387648  303.146138  177.860728 -2.517746e+01  16.557413  0.0  0.125391\\n    5  228.909791   15.840930  299.791762  223.866512 -4.089328e+01  21.205340  0.0  0.203879\\n    6  275.940312   24.268967  295.694311  266.979866 -5.968447e+01  25.979142  0.0  0.303253\\n    7  320.490202   34.709866  290.968937  306.165136 -8.087898e+01  30.968079  0.0  0.441179\\n    8  361.784714   47.156174  285.713191  340.588859 -1.036878e+02  36.310482  0.0  0.647011\\n    9  399.379034   61.527354  280.105710  369.766752 -1.273940e+02  42.186010  0.0  0.953537\\n   10  433.303827   77.741214  274.238339  393.638039 -1.514991e+02  48.836957  0.0  1.415430\\n   11  463.838287   95.695653  268.076311  412.270709 -1.756895e+02  56.516081  0.0  2.095417\\n   12  491.309388  115.398275  261.524487  425.740745 -1.996315e+02  65.418373  0.0  3.020114\\n   13  516.217188  136.768874  254.420003  434.178234 -2.230667e+02  75.518204  0.0  4.132418\\n   14  538.862168  159.124771  246.192577  437.784275 -2.454227e+02  80.837074  0.0  3.812343'"
      ]
     },
     "execution_count": 15,
     "metadata": {},
     "output_type": "execute_result"
    }
   ],
   "source": [
    "data_frame.to_string(index=None)"
   ]
  },
  {
   "cell_type": "code",
   "execution_count": 21,
   "metadata": {},
   "outputs": [],
   "source": [
    "def lepar_rib_geo(glider):\n",
    "    aoa_abs = np.array([r.aoa_absolute for r in glider.ribs])\n",
    "    aoa_rel = np.array([r.aoa_relative for r in glider.ribs])\n",
    "    gamma = np.arctan(1 / glider.glide)\n",
    "    alpha_max = np.rad2deg(-aoa_abs[0] + gamma)\n",
    "    washin = np.rad2deg(aoa_abs - aoa_abs[0])\n",
    "    y_le, xp, z = np.array([r.pos for r in glider.ribs]).T * 1.0e2\n",
    "    chord = np.array([r.chord for r in glider.ribs]) * 1.0e2\n",
    "    y_te = y_le + chord\n",
    "    x_rib = glider.shape_simple.front.data.T[0] * 1.0e2\n",
    "    beta = np.rad2deg(np.array([r.arcang for r in glider.ribs]))\n",
    "    rp = np.array([0.] * len(beta))\n",
    "    ribs_number = np.array(list(range(len(rp))), dtype=int)\n",
    "    data = { \"Rib\": ribs_number,\n",
    "             \"x_rib\": x_rib,\n",
    "             \"y_LE\": y_le, \n",
    "             \"y_TE\": y_te,\n",
    "             \"xp\": xp,\n",
    "             \"z\": z,\n",
    "             \"beta\": beta,\n",
    "             \"RP\": rp,\n",
    "             \"Washin\": washin}\n",
    "    data_frame = pd.DataFrame(data)\n",
    "    if glider.has_center_cell:\n",
    "        data_frame = data_frame[1:]\n",
    "    data =  data_frame.to_string(index=None, float_format=lambda x: \"{:.3f}\".format(x))\n",
    "    return glider.glide, alpha_max, data"
   ]
  },
  {
   "cell_type": "code",
   "execution_count": 22,
   "metadata": {},
   "outputs": [
    {
     "name": "stdout",
     "output_type": "stream",
     "text": [
      " Rib   x_rib    y_LE    y_TE      xp        z   beta    RP  Washin\n",
      "   1  27.575   0.000 308.374  27.575   -0.000  2.459 0.000   0.000\n",
      "   2  80.072   1.600 307.453  79.879   -4.500  7.271 0.000   0.024\n",
      "   3 130.688   4.699 305.704 129.782  -12.963 11.940 0.000   0.066\n",
      "   4 180.294   9.388 303.146 177.861  -25.177 16.557 0.000   0.125\n",
      "   5 228.910  15.841 299.792 223.867  -40.893 21.205 0.000   0.204\n",
      "   6 275.940  24.269 295.694 266.980  -59.684 25.979 0.000   0.303\n",
      "   7 320.490  34.710 290.969 306.165  -80.879 30.968 0.000   0.441\n",
      "   8 361.785  47.156 285.713 340.589 -103.688 36.310 0.000   0.647\n",
      "   9 399.379  61.527 280.106 369.767 -127.394 42.186 0.000   0.954\n",
      "  10 433.304  77.741 274.238 393.638 -151.499 48.837 0.000   1.415\n",
      "  11 463.838  95.696 268.076 412.271 -175.690 56.516 0.000   2.095\n",
      "  12 491.309 115.398 261.524 425.741 -199.632 65.418 0.000   3.020\n",
      "  13 516.217 136.769 254.420 434.178 -223.067 75.518 0.000   4.132\n",
      "  14 538.862 159.125 246.193 437.784 -245.423 80.837 0.000   3.812\n"
     ]
    }
   ],
   "source": [
    "\n",
    "env = Environment( loader = FileSystemLoader(\".\") )\n",
    "template = env.get_template('leparagliding.txt.template')\n",
    " \n",
    "GR, alpha_max, rib_geo = lepar_rib_geo(glider)\n",
    "print(rib_geo)\n",
    "complete_glider = glider.copy_complete()\n",
    "\n",
    "with open(\"rendered.txt\", 'w') as fh:\n",
    "    fh.write(template.render(\n",
    "        GR=glider.glide,\n",
    "        alpha_max=\"{:.2f}\".format(alpha_max),\n",
    "        rib_geo=rib_geo,\n",
    "        num_cells=len(glider.copy_complete().cells),\n",
    "        num_ribs=len(glider.copy_complete().ribs),\n",
    "        \n",
    "    ))"
   ]
  },
  {
   "cell_type": "code",
   "execution_count": 24,
   "metadata": {},
   "outputs": [
    {
     "name": "stdout",
     "output_type": "stream",
     "text": [
      "\n",
      " LABORATORI D'ENVOL PARAGLIDING\n",
      " Paragliders and parachutes design program\n",
      "\n",
      " LEparagliding 3.10 version \"Pirineus\"                                        \n",
      " 2020-05-02\n",
      "\n",
      " Pere Casellas\n",
      " pere@laboratoridenvol.com\n",
      " GNU General Public License 3.0 http://www.gnu.org\n",
      "\n",
      " 01-Planform read\n",
      " 02-Airfoils read\n",
      " 03-Anchors position read\n",
      " 04-Airfoil holes read\n",
      " 05-Skin tension read\n",
      " 06-Sewing allowances read\n",
      " 07-Marks read\n",
      " 08-Calage read\n",
      " 09-Lines read\n",
      " 10-Brakes read\n",
      " 11-Ramifications read\n",
      " 12-H V VH ribs read\n",
      " 15-Extrados colors read\n",
      " 16-Intrados colors read\n",
      " 17-Aditional rib points read\n",
      " 18-Elastic lines corrections read\n",
      " 19-DXF layer names read\n",
      " 20-DXF mark types read\n",
      " 21-Joncs definition read\n",
      " 22-Nose mylars definition read\n",
      " 23-Tab reinforcements definition read\n",
      " 24-General 2D DXF options read\n",
      " 25-General 3D DXF options read\n",
      " 26-Glue vents read\n",
      " 27-Special wingtip read\n",
      " 28-Parameters for calage variation read\n",
      " 29-3D-Shaping read\n",
      " 30-Airfoil modification read\n",
      " 31-New skin tension read\n",
      " All data read! Calculus start...\n",
      "\n",
      " Area = 27.02 m2\n",
      "\n",
      " Total line length =  314.24 m\n",
      "\n",
      " OK, paraglider calculated !\n",
      "\n",
      " Please open the following files:\n",
      "\n",
      "    leparagliding.dxf\n",
      "    lep-3d.dxf\n",
      "    lep-out.txt\n",
      "    lines.txt\n",
      "\n"
     ]
    }
   ],
   "source": [
    "!leparagliding rendered.txt"
   ]
  },
  {
   "cell_type": "code",
   "execution_count": null,
   "metadata": {},
   "outputs": [],
   "source": []
  }
 ],
 "metadata": {
  "kernelspec": {
   "display_name": "Python 3",
   "language": "python",
   "name": "python3"
  },
  "language_info": {
   "codemirror_mode": {
    "name": "ipython",
    "version": 3
   },
   "file_extension": ".py",
   "mimetype": "text/x-python",
   "name": "python",
   "nbconvert_exporter": "python",
   "pygments_lexer": "ipython3",
   "version": "3.8.5"
  }
 },
 "nbformat": 4,
 "nbformat_minor": 4
}
